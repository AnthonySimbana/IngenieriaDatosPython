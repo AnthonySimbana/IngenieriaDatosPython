{
 "cells": [
  {
   "cell_type": "code",
   "execution_count": 2,
   "metadata": {},
   "outputs": [],
   "source": [
    "import random"
   ]
  },
  {
   "cell_type": "code",
   "execution_count": 3,
   "metadata": {},
   "outputs": [
    {
     "name": "stdout",
     "output_type": "stream",
     "text": [
      "[1, 36, 81, 56, 19, 92, 66, 99, 10, 100, 17, 97, 99, 78, 70, 3, 45, 100, 45, 30, 52, 2, 89, 87, 46, 1, 47, 1, 74, 59, 94, 35, 49, 78, 14, 2, 43, 27, 95, 26, 11, 15, 79, 61, 30, 19, 29, 92, 41, 53, 35, 10, 55, 99, 44, 94, 20, 13, 17, 0, 21, 54, 7, 57, 40, 56, 43, 40, 41, 9, 4, 71, 91, 76, 84, 36, 32, 48, 80, 72, 4, 16, 29, 15, 41, 19, 62, 63, 88, 36, 86, 77, 96, 95, 76, 6, 54, 25, 14, 60]\n"
     ]
    }
   ],
   "source": [
    "lista = [random.randint(0,100) for i in range(0,100)]\n",
    "print(lista)"
   ]
  },
  {
   "cell_type": "code",
   "execution_count": null,
   "metadata": {},
   "outputs": [
    {
     "name": "stdout",
     "output_type": "stream",
     "text": [
      "4806\n"
     ]
    }
   ],
   "source": [
    "# funcion para sumar numeros pares\n",
    "def suma(lista):\n",
    "    pass\n",
    "\n",
    "print(sum(lista))"
   ]
  },
  {
   "cell_type": "code",
   "execution_count": 8,
   "metadata": {},
   "outputs": [
    {
     "name": "stdout",
     "output_type": "stream",
     "text": [
      "Sí existe\n"
     ]
    }
   ],
   "source": [
    "# funcion para buscar un elemento en una lista\n",
    "def buscar_elemento(lista, elemento):\n",
    "    if elemento in lista:\n",
    "        return \"Sí existe\"\n",
    "    else:\n",
    "        return \"No existe\"\n",
    "\n",
    "print(buscar_elemento(lista, 1))"
   ]
  },
  {
   "cell_type": "code",
   "execution_count": 10,
   "metadata": {},
   "outputs": [
    {
     "name": "stdout",
     "output_type": "stream",
     "text": [
      "6\n"
     ]
    }
   ],
   "source": [
    "# Crear una función que reciba una lista de palabras y retorne un diccionario con \n",
    "# la cantidad de veces que aparece cada palabra.\n",
    "def contar_palabras(lista):\n",
    "    contador = 0\n",
    "    for elemento in lista:\n",
    "        contador= contador+1\n",
    "    return contador\n",
    "\n",
    "palabras = [\"python\", \"java\", \"python\", \"c++\", \"python\", \"java\"]\n",
    "resultado = contar_palabras(palabras)\n",
    "print(resultado)"
   ]
  },
  {
   "cell_type": "code",
   "execution_count": 12,
   "metadata": {},
   "outputs": [
    {
     "name": "stdout",
     "output_type": "stream",
     "text": [
      "Pedro\n"
     ]
    }
   ],
   "source": [
    "# Crear una función que reciba un diccionario donde las llaves sean nombres y los valores sean notas.\n",
    "# Debe retornar el nombre del alumno con la nota más alta\n",
    "def mejor_alumno(diccionario):\n",
    "    return max(diccionario, key=diccionario.get)\n",
    "\n",
    "notas = {\"Ana\": 15, \"Luis\": 18, \"María\": 17, \"Pedro\": 19}\n",
    "print(mejor_alumno(notas))  "
   ]
  }
 ],
 "metadata": {
  "kernelspec": {
   "display_name": "Python 3",
   "language": "python",
   "name": "python3"
  },
  "language_info": {
   "codemirror_mode": {
    "name": "ipython",
    "version": 3
   },
   "file_extension": ".py",
   "mimetype": "text/x-python",
   "name": "python",
   "nbconvert_exporter": "python",
   "pygments_lexer": "ipython3",
   "version": "3.12.1"
  },
  "orig_nbformat": 4
 },
 "nbformat": 4,
 "nbformat_minor": 2
}
