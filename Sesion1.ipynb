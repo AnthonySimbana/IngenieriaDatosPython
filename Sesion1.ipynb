{
 "cells": [
  {
   "cell_type": "markdown",
   "id": "cac78431",
   "metadata": {},
   "source": [
    "**Introduccion a python**\n",
    "\n",
    "Principales comandos utilizados por python"
   ]
  },
  {
   "cell_type": "code",
   "execution_count": null,
   "id": "f38f8646",
   "metadata": {
    "vscode": {
     "languageId": "plaintext"
    }
   },
   "outputs": [],
   "source": []
  }
 ],
 "metadata": {
  "language_info": {
   "name": "python"
  }
 },
 "nbformat": 4,
 "nbformat_minor": 5
}
